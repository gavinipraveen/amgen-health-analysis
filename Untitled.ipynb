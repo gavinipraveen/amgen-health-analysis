{
 "cells": [
  {
   "cell_type": "code",
   "execution_count": 1,
   "id": "0fa5e39a-0a2b-4ad7-990a-48b3509781be",
   "metadata": {},
   "outputs": [
    {
     "name": "stdout",
     "output_type": "stream",
     "text": [
      "✅ Pandas is ready!\n"
     ]
    }
   ],
   "source": [
    "import pandas as pd\n",
    "print(\"✅ Pandas is ready!\")"
   ]
  },
  {
   "cell_type": "code",
   "execution_count": 2,
   "id": "dab009e1-732d-4f97-9d5f-d1ebbc6fea1a",
   "metadata": {},
   "outputs": [
    {
     "ename": "FileNotFoundError",
     "evalue": "[Errno 2] No such file or directory: 'data/sales.csv'",
     "output_type": "error",
     "traceback": [
      "\u001b[0;31m---------------------------------------------------------------------------\u001b[0m",
      "\u001b[0;31mFileNotFoundError\u001b[0m                         Traceback (most recent call last)",
      "Cell \u001b[0;32mIn[2], line 4\u001b[0m\n\u001b[1;32m      1\u001b[0m \u001b[38;5;28;01mimport\u001b[39;00m \u001b[38;5;21;01mpandas\u001b[39;00m \u001b[38;5;28;01mas\u001b[39;00m \u001b[38;5;21;01mpd\u001b[39;00m\n\u001b[1;32m      3\u001b[0m \u001b[38;5;66;03m# Load the CSVs\u001b[39;00m\n\u001b[0;32m----> 4\u001b[0m sales \u001b[38;5;241m=\u001b[39m pd\u001b[38;5;241m.\u001b[39mread_csv(\u001b[38;5;124m\"\u001b[39m\u001b[38;5;124mdata/sales.csv\u001b[39m\u001b[38;5;124m\"\u001b[39m)\n\u001b[1;32m      5\u001b[0m trials \u001b[38;5;241m=\u001b[39m pd\u001b[38;5;241m.\u001b[39mread_csv(\u001b[38;5;124m\"\u001b[39m\u001b[38;5;124mdata/trials.csv\u001b[39m\u001b[38;5;124m\"\u001b[39m)\n\u001b[1;32m      6\u001b[0m health \u001b[38;5;241m=\u001b[39m pd\u001b[38;5;241m.\u001b[39mread_csv(\u001b[38;5;124m\"\u001b[39m\u001b[38;5;124mdata/health.csv\u001b[39m\u001b[38;5;124m\"\u001b[39m)\n",
      "File \u001b[0;32m/opt/anaconda3/lib/python3.11/site-packages/pandas/io/parsers/readers.py:948\u001b[0m, in \u001b[0;36mread_csv\u001b[0;34m(filepath_or_buffer, sep, delimiter, header, names, index_col, usecols, dtype, engine, converters, true_values, false_values, skipinitialspace, skiprows, skipfooter, nrows, na_values, keep_default_na, na_filter, verbose, skip_blank_lines, parse_dates, infer_datetime_format, keep_date_col, date_parser, date_format, dayfirst, cache_dates, iterator, chunksize, compression, thousands, decimal, lineterminator, quotechar, quoting, doublequote, escapechar, comment, encoding, encoding_errors, dialect, on_bad_lines, delim_whitespace, low_memory, memory_map, float_precision, storage_options, dtype_backend)\u001b[0m\n\u001b[1;32m    935\u001b[0m kwds_defaults \u001b[38;5;241m=\u001b[39m _refine_defaults_read(\n\u001b[1;32m    936\u001b[0m     dialect,\n\u001b[1;32m    937\u001b[0m     delimiter,\n\u001b[0;32m   (...)\u001b[0m\n\u001b[1;32m    944\u001b[0m     dtype_backend\u001b[38;5;241m=\u001b[39mdtype_backend,\n\u001b[1;32m    945\u001b[0m )\n\u001b[1;32m    946\u001b[0m kwds\u001b[38;5;241m.\u001b[39mupdate(kwds_defaults)\n\u001b[0;32m--> 948\u001b[0m \u001b[38;5;28;01mreturn\u001b[39;00m _read(filepath_or_buffer, kwds)\n",
      "File \u001b[0;32m/opt/anaconda3/lib/python3.11/site-packages/pandas/io/parsers/readers.py:611\u001b[0m, in \u001b[0;36m_read\u001b[0;34m(filepath_or_buffer, kwds)\u001b[0m\n\u001b[1;32m    608\u001b[0m _validate_names(kwds\u001b[38;5;241m.\u001b[39mget(\u001b[38;5;124m\"\u001b[39m\u001b[38;5;124mnames\u001b[39m\u001b[38;5;124m\"\u001b[39m, \u001b[38;5;28;01mNone\u001b[39;00m))\n\u001b[1;32m    610\u001b[0m \u001b[38;5;66;03m# Create the parser.\u001b[39;00m\n\u001b[0;32m--> 611\u001b[0m parser \u001b[38;5;241m=\u001b[39m TextFileReader(filepath_or_buffer, \u001b[38;5;241m*\u001b[39m\u001b[38;5;241m*\u001b[39mkwds)\n\u001b[1;32m    613\u001b[0m \u001b[38;5;28;01mif\u001b[39;00m chunksize \u001b[38;5;129;01mor\u001b[39;00m iterator:\n\u001b[1;32m    614\u001b[0m     \u001b[38;5;28;01mreturn\u001b[39;00m parser\n",
      "File \u001b[0;32m/opt/anaconda3/lib/python3.11/site-packages/pandas/io/parsers/readers.py:1448\u001b[0m, in \u001b[0;36mTextFileReader.__init__\u001b[0;34m(self, f, engine, **kwds)\u001b[0m\n\u001b[1;32m   1445\u001b[0m     \u001b[38;5;28mself\u001b[39m\u001b[38;5;241m.\u001b[39moptions[\u001b[38;5;124m\"\u001b[39m\u001b[38;5;124mhas_index_names\u001b[39m\u001b[38;5;124m\"\u001b[39m] \u001b[38;5;241m=\u001b[39m kwds[\u001b[38;5;124m\"\u001b[39m\u001b[38;5;124mhas_index_names\u001b[39m\u001b[38;5;124m\"\u001b[39m]\n\u001b[1;32m   1447\u001b[0m \u001b[38;5;28mself\u001b[39m\u001b[38;5;241m.\u001b[39mhandles: IOHandles \u001b[38;5;241m|\u001b[39m \u001b[38;5;28;01mNone\u001b[39;00m \u001b[38;5;241m=\u001b[39m \u001b[38;5;28;01mNone\u001b[39;00m\n\u001b[0;32m-> 1448\u001b[0m \u001b[38;5;28mself\u001b[39m\u001b[38;5;241m.\u001b[39m_engine \u001b[38;5;241m=\u001b[39m \u001b[38;5;28mself\u001b[39m\u001b[38;5;241m.\u001b[39m_make_engine(f, \u001b[38;5;28mself\u001b[39m\u001b[38;5;241m.\u001b[39mengine)\n",
      "File \u001b[0;32m/opt/anaconda3/lib/python3.11/site-packages/pandas/io/parsers/readers.py:1705\u001b[0m, in \u001b[0;36mTextFileReader._make_engine\u001b[0;34m(self, f, engine)\u001b[0m\n\u001b[1;32m   1703\u001b[0m     \u001b[38;5;28;01mif\u001b[39;00m \u001b[38;5;124m\"\u001b[39m\u001b[38;5;124mb\u001b[39m\u001b[38;5;124m\"\u001b[39m \u001b[38;5;129;01mnot\u001b[39;00m \u001b[38;5;129;01min\u001b[39;00m mode:\n\u001b[1;32m   1704\u001b[0m         mode \u001b[38;5;241m+\u001b[39m\u001b[38;5;241m=\u001b[39m \u001b[38;5;124m\"\u001b[39m\u001b[38;5;124mb\u001b[39m\u001b[38;5;124m\"\u001b[39m\n\u001b[0;32m-> 1705\u001b[0m \u001b[38;5;28mself\u001b[39m\u001b[38;5;241m.\u001b[39mhandles \u001b[38;5;241m=\u001b[39m get_handle(\n\u001b[1;32m   1706\u001b[0m     f,\n\u001b[1;32m   1707\u001b[0m     mode,\n\u001b[1;32m   1708\u001b[0m     encoding\u001b[38;5;241m=\u001b[39m\u001b[38;5;28mself\u001b[39m\u001b[38;5;241m.\u001b[39moptions\u001b[38;5;241m.\u001b[39mget(\u001b[38;5;124m\"\u001b[39m\u001b[38;5;124mencoding\u001b[39m\u001b[38;5;124m\"\u001b[39m, \u001b[38;5;28;01mNone\u001b[39;00m),\n\u001b[1;32m   1709\u001b[0m     compression\u001b[38;5;241m=\u001b[39m\u001b[38;5;28mself\u001b[39m\u001b[38;5;241m.\u001b[39moptions\u001b[38;5;241m.\u001b[39mget(\u001b[38;5;124m\"\u001b[39m\u001b[38;5;124mcompression\u001b[39m\u001b[38;5;124m\"\u001b[39m, \u001b[38;5;28;01mNone\u001b[39;00m),\n\u001b[1;32m   1710\u001b[0m     memory_map\u001b[38;5;241m=\u001b[39m\u001b[38;5;28mself\u001b[39m\u001b[38;5;241m.\u001b[39moptions\u001b[38;5;241m.\u001b[39mget(\u001b[38;5;124m\"\u001b[39m\u001b[38;5;124mmemory_map\u001b[39m\u001b[38;5;124m\"\u001b[39m, \u001b[38;5;28;01mFalse\u001b[39;00m),\n\u001b[1;32m   1711\u001b[0m     is_text\u001b[38;5;241m=\u001b[39mis_text,\n\u001b[1;32m   1712\u001b[0m     errors\u001b[38;5;241m=\u001b[39m\u001b[38;5;28mself\u001b[39m\u001b[38;5;241m.\u001b[39moptions\u001b[38;5;241m.\u001b[39mget(\u001b[38;5;124m\"\u001b[39m\u001b[38;5;124mencoding_errors\u001b[39m\u001b[38;5;124m\"\u001b[39m, \u001b[38;5;124m\"\u001b[39m\u001b[38;5;124mstrict\u001b[39m\u001b[38;5;124m\"\u001b[39m),\n\u001b[1;32m   1713\u001b[0m     storage_options\u001b[38;5;241m=\u001b[39m\u001b[38;5;28mself\u001b[39m\u001b[38;5;241m.\u001b[39moptions\u001b[38;5;241m.\u001b[39mget(\u001b[38;5;124m\"\u001b[39m\u001b[38;5;124mstorage_options\u001b[39m\u001b[38;5;124m\"\u001b[39m, \u001b[38;5;28;01mNone\u001b[39;00m),\n\u001b[1;32m   1714\u001b[0m )\n\u001b[1;32m   1715\u001b[0m \u001b[38;5;28;01massert\u001b[39;00m \u001b[38;5;28mself\u001b[39m\u001b[38;5;241m.\u001b[39mhandles \u001b[38;5;129;01mis\u001b[39;00m \u001b[38;5;129;01mnot\u001b[39;00m \u001b[38;5;28;01mNone\u001b[39;00m\n\u001b[1;32m   1716\u001b[0m f \u001b[38;5;241m=\u001b[39m \u001b[38;5;28mself\u001b[39m\u001b[38;5;241m.\u001b[39mhandles\u001b[38;5;241m.\u001b[39mhandle\n",
      "File \u001b[0;32m/opt/anaconda3/lib/python3.11/site-packages/pandas/io/common.py:863\u001b[0m, in \u001b[0;36mget_handle\u001b[0;34m(path_or_buf, mode, encoding, compression, memory_map, is_text, errors, storage_options)\u001b[0m\n\u001b[1;32m    858\u001b[0m \u001b[38;5;28;01melif\u001b[39;00m \u001b[38;5;28misinstance\u001b[39m(handle, \u001b[38;5;28mstr\u001b[39m):\n\u001b[1;32m    859\u001b[0m     \u001b[38;5;66;03m# Check whether the filename is to be opened in binary mode.\u001b[39;00m\n\u001b[1;32m    860\u001b[0m     \u001b[38;5;66;03m# Binary mode does not support 'encoding' and 'newline'.\u001b[39;00m\n\u001b[1;32m    861\u001b[0m     \u001b[38;5;28;01mif\u001b[39;00m ioargs\u001b[38;5;241m.\u001b[39mencoding \u001b[38;5;129;01mand\u001b[39;00m \u001b[38;5;124m\"\u001b[39m\u001b[38;5;124mb\u001b[39m\u001b[38;5;124m\"\u001b[39m \u001b[38;5;129;01mnot\u001b[39;00m \u001b[38;5;129;01min\u001b[39;00m ioargs\u001b[38;5;241m.\u001b[39mmode:\n\u001b[1;32m    862\u001b[0m         \u001b[38;5;66;03m# Encoding\u001b[39;00m\n\u001b[0;32m--> 863\u001b[0m         handle \u001b[38;5;241m=\u001b[39m \u001b[38;5;28mopen\u001b[39m(\n\u001b[1;32m    864\u001b[0m             handle,\n\u001b[1;32m    865\u001b[0m             ioargs\u001b[38;5;241m.\u001b[39mmode,\n\u001b[1;32m    866\u001b[0m             encoding\u001b[38;5;241m=\u001b[39mioargs\u001b[38;5;241m.\u001b[39mencoding,\n\u001b[1;32m    867\u001b[0m             errors\u001b[38;5;241m=\u001b[39merrors,\n\u001b[1;32m    868\u001b[0m             newline\u001b[38;5;241m=\u001b[39m\u001b[38;5;124m\"\u001b[39m\u001b[38;5;124m\"\u001b[39m,\n\u001b[1;32m    869\u001b[0m         )\n\u001b[1;32m    870\u001b[0m     \u001b[38;5;28;01melse\u001b[39;00m:\n\u001b[1;32m    871\u001b[0m         \u001b[38;5;66;03m# Binary mode\u001b[39;00m\n\u001b[1;32m    872\u001b[0m         handle \u001b[38;5;241m=\u001b[39m \u001b[38;5;28mopen\u001b[39m(handle, ioargs\u001b[38;5;241m.\u001b[39mmode)\n",
      "\u001b[0;31mFileNotFoundError\u001b[0m: [Errno 2] No such file or directory: 'data/sales.csv'"
     ]
    }
   ],
   "source": [
    "import pandas as pd\n",
    "\n",
    "# Load the CSVs\n",
    "sales = pd.read_csv(\"data/sales.csv\")\n",
    "trials = pd.read_csv(\"data/trials.csv\")\n",
    "health = pd.read_csv(\"data/health.csv\")\n",
    "\n",
    "print(\"✅ Files loaded successfully!\")"
   ]
  },
  {
   "cell_type": "code",
   "execution_count": 3,
   "id": "99586316-375d-4d1e-8971-bbd176e355be",
   "metadata": {},
   "outputs": [
    {
     "name": "stdout",
     "output_type": "stream",
     "text": [
      "/Users/arya/Desktop\n"
     ]
    }
   ],
   "source": [
    "import os\n",
    "print(os.getcwd())"
   ]
  },
  {
   "cell_type": "code",
   "execution_count": 4,
   "id": "c86cff91-9b10-4c4f-b0ed-dd6fccd7fe71",
   "metadata": {},
   "outputs": [
    {
     "name": "stdout",
     "output_type": "stream",
     "text": [
      "/Users/arya/Desktop\n"
     ]
    }
   ],
   "source": [
    "import os\n",
    "print(os.getcwd())"
   ]
  },
  {
   "cell_type": "code",
   "execution_count": 5,
   "id": "e58aed4f-c33b-4b5f-a1bf-b0632fc45087",
   "metadata": {},
   "outputs": [
    {
     "name": "stdout",
     "output_type": "stream",
     "text": [
      "✅ Files loaded successfully!\n",
      "Sales Data:\n"
     ]
    },
    {
     "data": {
      "text/html": [
       "<div>\n",
       "<style scoped>\n",
       "    .dataframe tbody tr th:only-of-type {\n",
       "        vertical-align: middle;\n",
       "    }\n",
       "\n",
       "    .dataframe tbody tr th {\n",
       "        vertical-align: top;\n",
       "    }\n",
       "\n",
       "    .dataframe thead th {\n",
       "        text-align: right;\n",
       "    }\n",
       "</style>\n",
       "<table border=\"1\" class=\"dataframe\">\n",
       "  <thead>\n",
       "    <tr style=\"text-align: right;\">\n",
       "      <th></th>\n",
       "      <th>Year</th>\n",
       "      <th>Month</th>\n",
       "      <th>Product</th>\n",
       "      <th>Region</th>\n",
       "      <th>Revenue_Million</th>\n",
       "      <th>Units_Sold</th>\n",
       "    </tr>\n",
       "  </thead>\n",
       "  <tbody>\n",
       "    <tr>\n",
       "      <th>0</th>\n",
       "      <td>2018</td>\n",
       "      <td>1</td>\n",
       "      <td>Enbrel</td>\n",
       "      <td>USA</td>\n",
       "      <td>2604</td>\n",
       "      <td>735883</td>\n",
       "    </tr>\n",
       "    <tr>\n",
       "      <th>1</th>\n",
       "      <td>2018</td>\n",
       "      <td>1</td>\n",
       "      <td>Enbrel</td>\n",
       "      <td>Europe</td>\n",
       "      <td>3884</td>\n",
       "      <td>740734</td>\n",
       "    </tr>\n",
       "    <tr>\n",
       "      <th>2</th>\n",
       "      <td>2018</td>\n",
       "      <td>1</td>\n",
       "      <td>Enbrel</td>\n",
       "      <td>Asia</td>\n",
       "      <td>2725</td>\n",
       "      <td>457419</td>\n",
       "    </tr>\n",
       "    <tr>\n",
       "      <th>3</th>\n",
       "      <td>2018</td>\n",
       "      <td>1</td>\n",
       "      <td>Prolia</td>\n",
       "      <td>USA</td>\n",
       "      <td>4581</td>\n",
       "      <td>517631</td>\n",
       "    </tr>\n",
       "    <tr>\n",
       "      <th>4</th>\n",
       "      <td>2018</td>\n",
       "      <td>1</td>\n",
       "      <td>Prolia</td>\n",
       "      <td>Europe</td>\n",
       "      <td>1722</td>\n",
       "      <td>1311288</td>\n",
       "    </tr>\n",
       "  </tbody>\n",
       "</table>\n",
       "</div>"
      ],
      "text/plain": [
       "   Year  Month Product  Region  Revenue_Million  Units_Sold\n",
       "0  2018      1  Enbrel     USA             2604      735883\n",
       "1  2018      1  Enbrel  Europe             3884      740734\n",
       "2  2018      1  Enbrel    Asia             2725      457419\n",
       "3  2018      1  Prolia     USA             4581      517631\n",
       "4  2018      1  Prolia  Europe             1722     1311288"
      ]
     },
     "metadata": {},
     "output_type": "display_data"
    },
    {
     "name": "stdout",
     "output_type": "stream",
     "text": [
      "\n",
      "Clinical Trials Data:\n"
     ]
    },
    {
     "data": {
      "text/html": [
       "<div>\n",
       "<style scoped>\n",
       "    .dataframe tbody tr th:only-of-type {\n",
       "        vertical-align: middle;\n",
       "    }\n",
       "\n",
       "    .dataframe tbody tr th {\n",
       "        vertical-align: top;\n",
       "    }\n",
       "\n",
       "    .dataframe thead th {\n",
       "        text-align: right;\n",
       "    }\n",
       "</style>\n",
       "<table border=\"1\" class=\"dataframe\">\n",
       "  <thead>\n",
       "    <tr style=\"text-align: right;\">\n",
       "      <th></th>\n",
       "      <th>TrialID</th>\n",
       "      <th>Product</th>\n",
       "      <th>Phase</th>\n",
       "      <th>Status</th>\n",
       "      <th>Patients</th>\n",
       "      <th>Indication</th>\n",
       "    </tr>\n",
       "  </thead>\n",
       "  <tbody>\n",
       "    <tr>\n",
       "      <th>0</th>\n",
       "      <td>T001</td>\n",
       "      <td>Prolia</td>\n",
       "      <td>Phase 2</td>\n",
       "      <td>Completed</td>\n",
       "      <td>1271</td>\n",
       "      <td>Cardio Health</td>\n",
       "    </tr>\n",
       "    <tr>\n",
       "      <th>1</th>\n",
       "      <td>T002</td>\n",
       "      <td>Prolia</td>\n",
       "      <td>Phase 4</td>\n",
       "      <td>Active</td>\n",
       "      <td>3874</td>\n",
       "      <td>Osteoporosis</td>\n",
       "    </tr>\n",
       "    <tr>\n",
       "      <th>2</th>\n",
       "      <td>T003</td>\n",
       "      <td>Enbrel</td>\n",
       "      <td>Phase 1</td>\n",
       "      <td>Planned</td>\n",
       "      <td>2631</td>\n",
       "      <td>Osteoporosis</td>\n",
       "    </tr>\n",
       "    <tr>\n",
       "      <th>3</th>\n",
       "      <td>T004</td>\n",
       "      <td>Prolia</td>\n",
       "      <td>Phase 3</td>\n",
       "      <td>Planned</td>\n",
       "      <td>2341</td>\n",
       "      <td>Osteoporosis</td>\n",
       "    </tr>\n",
       "    <tr>\n",
       "      <th>4</th>\n",
       "      <td>T005</td>\n",
       "      <td>Otezla</td>\n",
       "      <td>Phase 4</td>\n",
       "      <td>Planned</td>\n",
       "      <td>231</td>\n",
       "      <td>Heart Disease</td>\n",
       "    </tr>\n",
       "  </tbody>\n",
       "</table>\n",
       "</div>"
      ],
      "text/plain": [
       "  TrialID Product    Phase     Status  Patients     Indication\n",
       "0    T001  Prolia  Phase 2  Completed      1271  Cardio Health\n",
       "1    T002  Prolia  Phase 4     Active      3874   Osteoporosis\n",
       "2    T003  Enbrel  Phase 1    Planned      2631   Osteoporosis\n",
       "3    T004  Prolia  Phase 3    Planned      2341   Osteoporosis\n",
       "4    T005  Otezla  Phase 4    Planned       231  Heart Disease"
      ]
     },
     "metadata": {},
     "output_type": "display_data"
    },
    {
     "name": "stdout",
     "output_type": "stream",
     "text": [
      "\n",
      "Health Data:\n"
     ]
    },
    {
     "data": {
      "text/html": [
       "<div>\n",
       "<style scoped>\n",
       "    .dataframe tbody tr th:only-of-type {\n",
       "        vertical-align: middle;\n",
       "    }\n",
       "\n",
       "    .dataframe tbody tr th {\n",
       "        vertical-align: top;\n",
       "    }\n",
       "\n",
       "    .dataframe thead th {\n",
       "        text-align: right;\n",
       "    }\n",
       "</style>\n",
       "<table border=\"1\" class=\"dataframe\">\n",
       "  <thead>\n",
       "    <tr style=\"text-align: right;\">\n",
       "      <th></th>\n",
       "      <th>Country</th>\n",
       "      <th>Osteoporosis_Prevalence</th>\n",
       "      <th>Cardio_Deaths_per100k</th>\n",
       "      <th>Healthcare_Spending_Billion</th>\n",
       "      <th>Life_Expectancy</th>\n",
       "    </tr>\n",
       "  </thead>\n",
       "  <tbody>\n",
       "    <tr>\n",
       "      <th>0</th>\n",
       "      <td>USA</td>\n",
       "      <td>12%</td>\n",
       "      <td>266</td>\n",
       "      <td>1385</td>\n",
       "      <td>70</td>\n",
       "    </tr>\n",
       "    <tr>\n",
       "      <th>1</th>\n",
       "      <td>India</td>\n",
       "      <td>13%</td>\n",
       "      <td>156</td>\n",
       "      <td>2133</td>\n",
       "      <td>67</td>\n",
       "    </tr>\n",
       "    <tr>\n",
       "      <th>2</th>\n",
       "      <td>Germany</td>\n",
       "      <td>10%</td>\n",
       "      <td>318</td>\n",
       "      <td>321</td>\n",
       "      <td>74</td>\n",
       "    </tr>\n",
       "    <tr>\n",
       "      <th>3</th>\n",
       "      <td>China</td>\n",
       "      <td>22%</td>\n",
       "      <td>300</td>\n",
       "      <td>1348</td>\n",
       "      <td>67</td>\n",
       "    </tr>\n",
       "    <tr>\n",
       "      <th>4</th>\n",
       "      <td>Brazil</td>\n",
       "      <td>18%</td>\n",
       "      <td>390</td>\n",
       "      <td>4389</td>\n",
       "      <td>65</td>\n",
       "    </tr>\n",
       "  </tbody>\n",
       "</table>\n",
       "</div>"
      ],
      "text/plain": [
       "   Country Osteoporosis_Prevalence  Cardio_Deaths_per100k  \\\n",
       "0      USA                     12%                    266   \n",
       "1    India                     13%                    156   \n",
       "2  Germany                     10%                    318   \n",
       "3    China                     22%                    300   \n",
       "4   Brazil                     18%                    390   \n",
       "\n",
       "   Healthcare_Spending_Billion  Life_Expectancy  \n",
       "0                         1385               70  \n",
       "1                         2133               67  \n",
       "2                          321               74  \n",
       "3                         1348               67  \n",
       "4                         4389               65  "
      ]
     },
     "metadata": {},
     "output_type": "display_data"
    }
   ],
   "source": [
    "import pandas as pd\n",
    "\n",
    "# Use full path to be 100% safe\n",
    "sales = pd.read_csv(\"/Users/arya/Desktop/amgen_project/data/sales.csv\")\n",
    "trials = pd.read_csv(\"/Users/arya/Desktop/amgen_project/data/trials.csv\")\n",
    "health = pd.read_csv(\"/Users/arya/Desktop/amgen_project/data/health.csv\")\n",
    "\n",
    "print(\"✅ Files loaded successfully!\")\n",
    "\n",
    "print(\"Sales Data:\")\n",
    "display(sales.head())\n",
    "\n",
    "print(\"\\nClinical Trials Data:\")\n",
    "display(trials.head())\n",
    "\n",
    "print(\"\\nHealth Data:\")\n",
    "display(health.head())"
   ]
  },
  {
   "cell_type": "code",
   "execution_count": 6,
   "id": "a5babc1f-46d8-428c-8da2-3ee5d2ea88f8",
   "metadata": {},
   "outputs": [
    {
     "name": "stdout",
     "output_type": "stream",
     "text": [
      "Missing values in Sales:\n",
      "Year               0\n",
      "Month              0\n",
      "Product            0\n",
      "Region             0\n",
      "Revenue_Million    0\n",
      "Units_Sold         0\n",
      "dtype: int64\n",
      "\n",
      "Missing values in Trials:\n",
      "TrialID       0\n",
      "Product       0\n",
      "Phase         0\n",
      "Status        0\n",
      "Patients      0\n",
      "Indication    0\n",
      "dtype: int64\n",
      "\n",
      "Missing values in Health:\n",
      "Country                        0\n",
      "Osteoporosis_Prevalence        0\n",
      "Cardio_Deaths_per100k          0\n",
      "Healthcare_Spending_Billion    0\n",
      "Life_Expectancy                0\n",
      "dtype: int64\n"
     ]
    }
   ],
   "source": [
    "# Check missing values in each dataset\n",
    "print(\"Missing values in Sales:\")\n",
    "print(sales.isnull().sum())\n",
    "\n",
    "print(\"\\nMissing values in Trials:\")\n",
    "print(trials.isnull().sum())\n",
    "\n",
    "print(\"\\nMissing values in Health:\")\n",
    "print(health.isnull().sum())"
   ]
  },
  {
   "cell_type": "code",
   "execution_count": 7,
   "id": "99157f16-410c-4e6f-a1d7-67edf05d29cf",
   "metadata": {},
   "outputs": [
    {
     "ename": "KeyError",
     "evalue": "'Trial_Phase'",
     "output_type": "error",
     "traceback": [
      "\u001b[0;31m---------------------------------------------------------------------------\u001b[0m",
      "\u001b[0;31mKeyError\u001b[0m                                  Traceback (most recent call last)",
      "File \u001b[0;32m/opt/anaconda3/lib/python3.11/site-packages/pandas/core/indexes/base.py:3791\u001b[0m, in \u001b[0;36mIndex.get_loc\u001b[0;34m(self, key)\u001b[0m\n\u001b[1;32m   3790\u001b[0m \u001b[38;5;28;01mtry\u001b[39;00m:\n\u001b[0;32m-> 3791\u001b[0m     \u001b[38;5;28;01mreturn\u001b[39;00m \u001b[38;5;28mself\u001b[39m\u001b[38;5;241m.\u001b[39m_engine\u001b[38;5;241m.\u001b[39mget_loc(casted_key)\n\u001b[1;32m   3792\u001b[0m \u001b[38;5;28;01mexcept\u001b[39;00m \u001b[38;5;167;01mKeyError\u001b[39;00m \u001b[38;5;28;01mas\u001b[39;00m err:\n",
      "File \u001b[0;32mindex.pyx:152\u001b[0m, in \u001b[0;36mpandas._libs.index.IndexEngine.get_loc\u001b[0;34m()\u001b[0m\n",
      "File \u001b[0;32mindex.pyx:181\u001b[0m, in \u001b[0;36mpandas._libs.index.IndexEngine.get_loc\u001b[0;34m()\u001b[0m\n",
      "File \u001b[0;32mpandas/_libs/hashtable_class_helper.pxi:7080\u001b[0m, in \u001b[0;36mpandas._libs.hashtable.PyObjectHashTable.get_item\u001b[0;34m()\u001b[0m\n",
      "File \u001b[0;32mpandas/_libs/hashtable_class_helper.pxi:7088\u001b[0m, in \u001b[0;36mpandas._libs.hashtable.PyObjectHashTable.get_item\u001b[0;34m()\u001b[0m\n",
      "\u001b[0;31mKeyError\u001b[0m: 'Trial_Phase'",
      "\nThe above exception was the direct cause of the following exception:\n",
      "\u001b[0;31mKeyError\u001b[0m                                  Traceback (most recent call last)",
      "Cell \u001b[0;32mIn[7], line 5\u001b[0m\n\u001b[1;32m      2\u001b[0m sales[\u001b[38;5;124m'\u001b[39m\u001b[38;5;124mRegion\u001b[39m\u001b[38;5;124m'\u001b[39m] \u001b[38;5;241m=\u001b[39m sales[\u001b[38;5;124m'\u001b[39m\u001b[38;5;124mRegion\u001b[39m\u001b[38;5;124m'\u001b[39m]\u001b[38;5;241m.\u001b[39mfillna(\u001b[38;5;124m\"\u001b[39m\u001b[38;5;124mUnknown\u001b[39m\u001b[38;5;124m\"\u001b[39m)\n\u001b[1;32m      4\u001b[0m \u001b[38;5;66;03m# Fill missing trial phase with \"Not Reported\"\u001b[39;00m\n\u001b[0;32m----> 5\u001b[0m trials[\u001b[38;5;124m'\u001b[39m\u001b[38;5;124mTrial_Phase\u001b[39m\u001b[38;5;124m'\u001b[39m] \u001b[38;5;241m=\u001b[39m trials[\u001b[38;5;124m'\u001b[39m\u001b[38;5;124mTrial_Phase\u001b[39m\u001b[38;5;124m'\u001b[39m]\u001b[38;5;241m.\u001b[39mfillna(\u001b[38;5;124m\"\u001b[39m\u001b[38;5;124mNot Reported\u001b[39m\u001b[38;5;124m\"\u001b[39m)\n\u001b[1;32m      7\u001b[0m \u001b[38;5;66;03m# Drop rows in health if Condition is missing (since that’s critical)\u001b[39;00m\n\u001b[1;32m      8\u001b[0m health \u001b[38;5;241m=\u001b[39m health\u001b[38;5;241m.\u001b[39mdropna(subset\u001b[38;5;241m=\u001b[39m[\u001b[38;5;124m'\u001b[39m\u001b[38;5;124mCondition\u001b[39m\u001b[38;5;124m'\u001b[39m])\n",
      "File \u001b[0;32m/opt/anaconda3/lib/python3.11/site-packages/pandas/core/frame.py:3893\u001b[0m, in \u001b[0;36mDataFrame.__getitem__\u001b[0;34m(self, key)\u001b[0m\n\u001b[1;32m   3891\u001b[0m \u001b[38;5;28;01mif\u001b[39;00m \u001b[38;5;28mself\u001b[39m\u001b[38;5;241m.\u001b[39mcolumns\u001b[38;5;241m.\u001b[39mnlevels \u001b[38;5;241m>\u001b[39m \u001b[38;5;241m1\u001b[39m:\n\u001b[1;32m   3892\u001b[0m     \u001b[38;5;28;01mreturn\u001b[39;00m \u001b[38;5;28mself\u001b[39m\u001b[38;5;241m.\u001b[39m_getitem_multilevel(key)\n\u001b[0;32m-> 3893\u001b[0m indexer \u001b[38;5;241m=\u001b[39m \u001b[38;5;28mself\u001b[39m\u001b[38;5;241m.\u001b[39mcolumns\u001b[38;5;241m.\u001b[39mget_loc(key)\n\u001b[1;32m   3894\u001b[0m \u001b[38;5;28;01mif\u001b[39;00m is_integer(indexer):\n\u001b[1;32m   3895\u001b[0m     indexer \u001b[38;5;241m=\u001b[39m [indexer]\n",
      "File \u001b[0;32m/opt/anaconda3/lib/python3.11/site-packages/pandas/core/indexes/base.py:3798\u001b[0m, in \u001b[0;36mIndex.get_loc\u001b[0;34m(self, key)\u001b[0m\n\u001b[1;32m   3793\u001b[0m     \u001b[38;5;28;01mif\u001b[39;00m \u001b[38;5;28misinstance\u001b[39m(casted_key, \u001b[38;5;28mslice\u001b[39m) \u001b[38;5;129;01mor\u001b[39;00m (\n\u001b[1;32m   3794\u001b[0m         \u001b[38;5;28misinstance\u001b[39m(casted_key, abc\u001b[38;5;241m.\u001b[39mIterable)\n\u001b[1;32m   3795\u001b[0m         \u001b[38;5;129;01mand\u001b[39;00m \u001b[38;5;28many\u001b[39m(\u001b[38;5;28misinstance\u001b[39m(x, \u001b[38;5;28mslice\u001b[39m) \u001b[38;5;28;01mfor\u001b[39;00m x \u001b[38;5;129;01min\u001b[39;00m casted_key)\n\u001b[1;32m   3796\u001b[0m     ):\n\u001b[1;32m   3797\u001b[0m         \u001b[38;5;28;01mraise\u001b[39;00m InvalidIndexError(key)\n\u001b[0;32m-> 3798\u001b[0m     \u001b[38;5;28;01mraise\u001b[39;00m \u001b[38;5;167;01mKeyError\u001b[39;00m(key) \u001b[38;5;28;01mfrom\u001b[39;00m \u001b[38;5;21;01merr\u001b[39;00m\n\u001b[1;32m   3799\u001b[0m \u001b[38;5;28;01mexcept\u001b[39;00m \u001b[38;5;167;01mTypeError\u001b[39;00m:\n\u001b[1;32m   3800\u001b[0m     \u001b[38;5;66;03m# If we have a listlike key, _check_indexing_error will raise\u001b[39;00m\n\u001b[1;32m   3801\u001b[0m     \u001b[38;5;66;03m#  InvalidIndexError. Otherwise we fall through and re-raise\u001b[39;00m\n\u001b[1;32m   3802\u001b[0m     \u001b[38;5;66;03m#  the TypeError.\u001b[39;00m\n\u001b[1;32m   3803\u001b[0m     \u001b[38;5;28mself\u001b[39m\u001b[38;5;241m.\u001b[39m_check_indexing_error(key)\n",
      "\u001b[0;31mKeyError\u001b[0m: 'Trial_Phase'"
     ]
    }
   ],
   "source": [
    "# Fill missing regions with \"Unknown\"\n",
    "sales['Region'] = sales['Region'].fillna(\"Unknown\")\n",
    "\n",
    "# Fill missing trial phase with \"Not Reported\"\n",
    "trials['Trial_Phase'] = trials['Trial_Phase'].fillna(\"Not Reported\")\n",
    "\n",
    "# Drop rows in health if Condition is missing (since that’s critical)\n",
    "health = health.dropna(subset=['Condition'])\n",
    "\n",
    "print(\"✅ Missing values handled\")"
   ]
  },
  {
   "cell_type": "code",
   "execution_count": 8,
   "id": "7c87a3e1-6871-4a1f-8f38-ffad75e5ae78",
   "metadata": {},
   "outputs": [
    {
     "name": "stdout",
     "output_type": "stream",
     "text": [
      "Sales columns: ['Year', 'Month', 'Product', 'Region', 'Revenue_Million', 'Units_Sold']\n",
      "Trials columns: ['TrialID', 'Product', 'Phase', 'Status', 'Patients', 'Indication']\n",
      "Health columns: ['Country', 'Osteoporosis_Prevalence', 'Cardio_Deaths_per100k', 'Healthcare_Spending_Billion', 'Life_Expectancy']\n"
     ]
    }
   ],
   "source": [
    "print(\"Sales columns:\", sales.columns.tolist())\n",
    "print(\"Trials columns:\", trials.columns.tolist())\n",
    "print(\"Health columns:\", health.columns.tolist())"
   ]
  },
  {
   "cell_type": "code",
   "execution_count": 9,
   "id": "81dc68be-8929-4405-8998-b567709f06f5",
   "metadata": {},
   "outputs": [
    {
     "name": "stdout",
     "output_type": "stream",
     "text": [
      "✅ Cleaning done\n"
     ]
    }
   ],
   "source": [
    "# Fill missing Region with 'Unknown'\n",
    "sales['Region'] = sales['Region'].fillna(\"Unknown\")\n",
    "\n",
    "# Fill missing Phase with 'Not Reported'\n",
    "trials['Phase'] = trials['Phase'].fillna(\"Not Reported\")\n",
    "\n",
    "# Fill missing Status with 'Unknown'\n",
    "trials['Status'] = trials['Status'].fillna(\"Unknown\")\n",
    "\n",
    "# Drop rows if Product is missing (critical field)\n",
    "sales = sales.dropna(subset=['Product'])\n",
    "trials = trials.dropna(subset=['Product'])\n",
    "\n",
    "print(\"✅ Cleaning done\")"
   ]
  },
  {
   "cell_type": "code",
   "execution_count": 10,
   "id": "7cdb6c53-4b7e-4871-bc27-0e5a32bb5b96",
   "metadata": {},
   "outputs": [
    {
     "name": "stdout",
     "output_type": "stream",
     "text": [
      "✅ Merged Sales + Trials\n"
     ]
    },
    {
     "data": {
      "text/html": [
       "<div>\n",
       "<style scoped>\n",
       "    .dataframe tbody tr th:only-of-type {\n",
       "        vertical-align: middle;\n",
       "    }\n",
       "\n",
       "    .dataframe tbody tr th {\n",
       "        vertical-align: top;\n",
       "    }\n",
       "\n",
       "    .dataframe thead th {\n",
       "        text-align: right;\n",
       "    }\n",
       "</style>\n",
       "<table border=\"1\" class=\"dataframe\">\n",
       "  <thead>\n",
       "    <tr style=\"text-align: right;\">\n",
       "      <th></th>\n",
       "      <th>Year</th>\n",
       "      <th>Month</th>\n",
       "      <th>Product</th>\n",
       "      <th>Region</th>\n",
       "      <th>Revenue_Million</th>\n",
       "      <th>Units_Sold</th>\n",
       "      <th>TrialID</th>\n",
       "      <th>Phase</th>\n",
       "      <th>Status</th>\n",
       "      <th>Patients</th>\n",
       "      <th>Indication</th>\n",
       "    </tr>\n",
       "  </thead>\n",
       "  <tbody>\n",
       "    <tr>\n",
       "      <th>0</th>\n",
       "      <td>2018</td>\n",
       "      <td>1</td>\n",
       "      <td>Enbrel</td>\n",
       "      <td>USA</td>\n",
       "      <td>2604</td>\n",
       "      <td>735883</td>\n",
       "      <td>T003</td>\n",
       "      <td>Phase 1</td>\n",
       "      <td>Planned</td>\n",
       "      <td>2631</td>\n",
       "      <td>Osteoporosis</td>\n",
       "    </tr>\n",
       "    <tr>\n",
       "      <th>1</th>\n",
       "      <td>2018</td>\n",
       "      <td>1</td>\n",
       "      <td>Enbrel</td>\n",
       "      <td>USA</td>\n",
       "      <td>2604</td>\n",
       "      <td>735883</td>\n",
       "      <td>T016</td>\n",
       "      <td>Phase 1</td>\n",
       "      <td>Recruiting</td>\n",
       "      <td>4283</td>\n",
       "      <td>Bone Density</td>\n",
       "    </tr>\n",
       "    <tr>\n",
       "      <th>2</th>\n",
       "      <td>2018</td>\n",
       "      <td>1</td>\n",
       "      <td>Enbrel</td>\n",
       "      <td>USA</td>\n",
       "      <td>2604</td>\n",
       "      <td>735883</td>\n",
       "      <td>T026</td>\n",
       "      <td>Phase 3</td>\n",
       "      <td>Completed</td>\n",
       "      <td>398</td>\n",
       "      <td>Migraine</td>\n",
       "    </tr>\n",
       "    <tr>\n",
       "      <th>3</th>\n",
       "      <td>2018</td>\n",
       "      <td>1</td>\n",
       "      <td>Enbrel</td>\n",
       "      <td>USA</td>\n",
       "      <td>2604</td>\n",
       "      <td>735883</td>\n",
       "      <td>T028</td>\n",
       "      <td>Phase 4</td>\n",
       "      <td>Completed</td>\n",
       "      <td>4369</td>\n",
       "      <td>Cardio Health</td>\n",
       "    </tr>\n",
       "    <tr>\n",
       "      <th>4</th>\n",
       "      <td>2018</td>\n",
       "      <td>1</td>\n",
       "      <td>Enbrel</td>\n",
       "      <td>USA</td>\n",
       "      <td>2604</td>\n",
       "      <td>735883</td>\n",
       "      <td>T034</td>\n",
       "      <td>Phase 4</td>\n",
       "      <td>Planned</td>\n",
       "      <td>2255</td>\n",
       "      <td>Migraine</td>\n",
       "    </tr>\n",
       "  </tbody>\n",
       "</table>\n",
       "</div>"
      ],
      "text/plain": [
       "   Year  Month Product Region  Revenue_Million  Units_Sold TrialID    Phase  \\\n",
       "0  2018      1  Enbrel    USA             2604      735883    T003  Phase 1   \n",
       "1  2018      1  Enbrel    USA             2604      735883    T016  Phase 1   \n",
       "2  2018      1  Enbrel    USA             2604      735883    T026  Phase 3   \n",
       "3  2018      1  Enbrel    USA             2604      735883    T028  Phase 4   \n",
       "4  2018      1  Enbrel    USA             2604      735883    T034  Phase 4   \n",
       "\n",
       "       Status  Patients     Indication  \n",
       "0     Planned      2631   Osteoporosis  \n",
       "1  Recruiting      4283   Bone Density  \n",
       "2   Completed       398       Migraine  \n",
       "3   Completed      4369  Cardio Health  \n",
       "4     Planned      2255       Migraine  "
      ]
     },
     "metadata": {},
     "output_type": "display_data"
    }
   ],
   "source": [
    "# Merge sales and trials on Product\n",
    "merged = pd.merge(sales, trials, on=\"Product\", how=\"inner\")\n",
    "\n",
    "print(\"✅ Merged Sales + Trials\")\n",
    "display(merged.head())"
   ]
  },
  {
   "cell_type": "code",
   "execution_count": 11,
   "id": "50d79b46-34ea-41ee-8a1b-11a5ce31670b",
   "metadata": {},
   "outputs": [
    {
     "name": "stdout",
     "output_type": "stream",
     "text": [
      "✅ Final dataset created\n"
     ]
    },
    {
     "data": {
      "text/html": [
       "<div>\n",
       "<style scoped>\n",
       "    .dataframe tbody tr th:only-of-type {\n",
       "        vertical-align: middle;\n",
       "    }\n",
       "\n",
       "    .dataframe tbody tr th {\n",
       "        vertical-align: top;\n",
       "    }\n",
       "\n",
       "    .dataframe thead th {\n",
       "        text-align: right;\n",
       "    }\n",
       "</style>\n",
       "<table border=\"1\" class=\"dataframe\">\n",
       "  <thead>\n",
       "    <tr style=\"text-align: right;\">\n",
       "      <th></th>\n",
       "      <th>Year</th>\n",
       "      <th>Month</th>\n",
       "      <th>Product</th>\n",
       "      <th>Region</th>\n",
       "      <th>Revenue_Million</th>\n",
       "      <th>Units_Sold</th>\n",
       "      <th>TrialID</th>\n",
       "      <th>Phase</th>\n",
       "      <th>Status</th>\n",
       "      <th>Patients</th>\n",
       "      <th>Indication</th>\n",
       "      <th>Country</th>\n",
       "      <th>Osteoporosis_Prevalence</th>\n",
       "      <th>Cardio_Deaths_per100k</th>\n",
       "      <th>Healthcare_Spending_Billion</th>\n",
       "      <th>Life_Expectancy</th>\n",
       "    </tr>\n",
       "  </thead>\n",
       "  <tbody>\n",
       "    <tr>\n",
       "      <th>0</th>\n",
       "      <td>2018</td>\n",
       "      <td>1</td>\n",
       "      <td>Enbrel</td>\n",
       "      <td>USA</td>\n",
       "      <td>2604</td>\n",
       "      <td>735883</td>\n",
       "      <td>T003</td>\n",
       "      <td>Phase 1</td>\n",
       "      <td>Planned</td>\n",
       "      <td>2631</td>\n",
       "      <td>Osteoporosis</td>\n",
       "      <td>USA</td>\n",
       "      <td>12%</td>\n",
       "      <td>266.0</td>\n",
       "      <td>1385.0</td>\n",
       "      <td>70.0</td>\n",
       "    </tr>\n",
       "    <tr>\n",
       "      <th>1</th>\n",
       "      <td>2018</td>\n",
       "      <td>1</td>\n",
       "      <td>Enbrel</td>\n",
       "      <td>USA</td>\n",
       "      <td>2604</td>\n",
       "      <td>735883</td>\n",
       "      <td>T016</td>\n",
       "      <td>Phase 1</td>\n",
       "      <td>Recruiting</td>\n",
       "      <td>4283</td>\n",
       "      <td>Bone Density</td>\n",
       "      <td>USA</td>\n",
       "      <td>12%</td>\n",
       "      <td>266.0</td>\n",
       "      <td>1385.0</td>\n",
       "      <td>70.0</td>\n",
       "    </tr>\n",
       "    <tr>\n",
       "      <th>2</th>\n",
       "      <td>2018</td>\n",
       "      <td>1</td>\n",
       "      <td>Enbrel</td>\n",
       "      <td>USA</td>\n",
       "      <td>2604</td>\n",
       "      <td>735883</td>\n",
       "      <td>T026</td>\n",
       "      <td>Phase 3</td>\n",
       "      <td>Completed</td>\n",
       "      <td>398</td>\n",
       "      <td>Migraine</td>\n",
       "      <td>USA</td>\n",
       "      <td>12%</td>\n",
       "      <td>266.0</td>\n",
       "      <td>1385.0</td>\n",
       "      <td>70.0</td>\n",
       "    </tr>\n",
       "    <tr>\n",
       "      <th>3</th>\n",
       "      <td>2018</td>\n",
       "      <td>1</td>\n",
       "      <td>Enbrel</td>\n",
       "      <td>USA</td>\n",
       "      <td>2604</td>\n",
       "      <td>735883</td>\n",
       "      <td>T028</td>\n",
       "      <td>Phase 4</td>\n",
       "      <td>Completed</td>\n",
       "      <td>4369</td>\n",
       "      <td>Cardio Health</td>\n",
       "      <td>USA</td>\n",
       "      <td>12%</td>\n",
       "      <td>266.0</td>\n",
       "      <td>1385.0</td>\n",
       "      <td>70.0</td>\n",
       "    </tr>\n",
       "    <tr>\n",
       "      <th>4</th>\n",
       "      <td>2018</td>\n",
       "      <td>1</td>\n",
       "      <td>Enbrel</td>\n",
       "      <td>USA</td>\n",
       "      <td>2604</td>\n",
       "      <td>735883</td>\n",
       "      <td>T034</td>\n",
       "      <td>Phase 4</td>\n",
       "      <td>Planned</td>\n",
       "      <td>2255</td>\n",
       "      <td>Migraine</td>\n",
       "      <td>USA</td>\n",
       "      <td>12%</td>\n",
       "      <td>266.0</td>\n",
       "      <td>1385.0</td>\n",
       "      <td>70.0</td>\n",
       "    </tr>\n",
       "  </tbody>\n",
       "</table>\n",
       "</div>"
      ],
      "text/plain": [
       "   Year  Month Product Region  Revenue_Million  Units_Sold TrialID    Phase  \\\n",
       "0  2018      1  Enbrel    USA             2604      735883    T003  Phase 1   \n",
       "1  2018      1  Enbrel    USA             2604      735883    T016  Phase 1   \n",
       "2  2018      1  Enbrel    USA             2604      735883    T026  Phase 3   \n",
       "3  2018      1  Enbrel    USA             2604      735883    T028  Phase 4   \n",
       "4  2018      1  Enbrel    USA             2604      735883    T034  Phase 4   \n",
       "\n",
       "       Status  Patients     Indication Country Osteoporosis_Prevalence  \\\n",
       "0     Planned      2631   Osteoporosis     USA                     12%   \n",
       "1  Recruiting      4283   Bone Density     USA                     12%   \n",
       "2   Completed       398       Migraine     USA                     12%   \n",
       "3   Completed      4369  Cardio Health     USA                     12%   \n",
       "4     Planned      2255       Migraine     USA                     12%   \n",
       "\n",
       "   Cardio_Deaths_per100k  Healthcare_Spending_Billion  Life_Expectancy  \n",
       "0                  266.0                       1385.0             70.0  \n",
       "1                  266.0                       1385.0             70.0  \n",
       "2                  266.0                       1385.0             70.0  \n",
       "3                  266.0                       1385.0             70.0  \n",
       "4                  266.0                       1385.0             70.0  "
      ]
     },
     "metadata": {},
     "output_type": "display_data"
    }
   ],
   "source": [
    "# Merge merged data with health on Region = Country\n",
    "final = pd.merge(merged, health, left_on=\"Region\", right_on=\"Country\", how=\"left\")\n",
    "\n",
    "print(\"✅ Final dataset created\")\n",
    "display(final.head())"
   ]
  },
  {
   "cell_type": "code",
   "execution_count": 12,
   "id": "9bf09494-6244-4742-863e-18b7103f5d1c",
   "metadata": {},
   "outputs": [
    {
     "name": "stdout",
     "output_type": "stream",
     "text": [
      "💡 KPIs for Amgen\n",
      "Total Revenue (Million USD): 69492148\n",
      "Top Selling Product: Prolia\n",
      "Average Patients per Product:\n",
      "Product\n",
      "Aimovig    2512.56\n",
      "Enbrel     2581.62\n",
      "Otezla     2808.06\n",
      "Prolia     2277.84\n",
      "Repatha    2350.09\n",
      "Name: Patients, dtype: float64\n",
      "Region with Highest Healthcare Spending: USA\n"
     ]
    }
   ],
   "source": [
    "# 1. Total Revenue\n",
    "total_revenue = final['Revenue_Million'].sum()\n",
    "\n",
    "# 2. Top-selling Product\n",
    "top_product = final.groupby(\"Product\")['Revenue_Million'].sum().idxmax()\n",
    "\n",
    "# 3. Average Trial Patients per Product\n",
    "avg_patients = final.groupby(\"Product\")['Patients'].mean().round(2)\n",
    "\n",
    "# 4. Region with Highest Healthcare Spending\n",
    "top_spending_region = final.groupby(\"Region\")['Healthcare_Spending_Billion'].mean().idxmax()\n",
    "\n",
    "print(\"💡 KPIs for Amgen\")\n",
    "print(f\"Total Revenue (Million USD): {total_revenue}\")\n",
    "print(f\"Top Selling Product: {top_product}\")\n",
    "print(\"Average Patients per Product:\")\n",
    "print(avg_patients)\n",
    "print(f\"Region with Highest Healthcare Spending: {top_spending_region}\")"
   ]
  },
  {
   "cell_type": "code",
   "execution_count": 13,
   "id": "1ded31e4-5f6c-45d2-aee9-cc3bda0f981a",
   "metadata": {},
   "outputs": [
    {
     "data": {
      "image/png": "[encoded data removed]",
      "text/plain": [
       "<Figure size 800x500 with 1 Axes>"
      ]
     },
     "metadata": {},
     "output_type": "display_data"
    },
    {
     "data": {
      "image/png": "[encoded data removed]",
      "text/plain": [
       "<Figure size 600x400 with 1 Axes>"
      ]
     },
     "metadata": {},
     "output_type": "display_data"
    },
    {
     "data": {
      "image/png": "[encoded data removed]",
      "text/plain": [
       "<Figure size 800x500 with 1 Axes>"
      ]
     },
     "metadata": {},
     "output_type": "display_data"
    }
   ],
   "source": [
    "import matplotlib.pyplot as plt\n",
    "\n",
    "# 1. Revenue by Product\n",
    "plt.figure(figsize=(8,5))\n",
    "final.groupby(\"Product\")['Revenue_Million'].sum().sort_values().plot(kind=\"bar\")\n",
    "plt.title(\"Amgen Revenue by Product\")\n",
    "plt.ylabel(\"Revenue (Million USD)\")\n",
    "plt.show()\n",
    "\n",
    "# 2. Trial Phase Distribution\n",
    "plt.figure(figsize=(6,4))\n",
    "final['Phase'].value_counts().plot(kind=\"pie\", autopct='%1.1f%%')\n",
    "plt.title(\"Clinical Trial Phases Distribution\")\n",
    "plt.ylabel(\"\")\n",
    "plt.show()\n",
    "\n",
    "# 3. Healthcare Spending vs Life Expectancy\n",
    "plt.figure(figsize=(8,5))\n",
    "plt.scatter(final['Healthcare_Spending_Billion'], final['Life_Expectancy'])\n",
    "plt.xlabel(\"Healthcare Spending (Billion USD)\")\n",
    "plt.ylabel(\"Life Expectancy (Years)\")\n",
    "plt.title(\"Healthcare Spending vs Life Expectancy\")\n",
    "plt.show()"
   ]
  },
  {
   "cell_type": "code",
   "execution_count": 14,
   "id": "8342c0d1-ecc8-43d5-9b44-bec58fc895b6",
   "metadata": {},
   "outputs": [
    {
     "ename": "ValueError",
     "evalue": "could not convert string to float: '12%'",
     "output_type": "error",
     "traceback": [
      "\u001b[0;31m---------------------------------------------------------------------------\u001b[0m",
      "\u001b[0;31mValueError\u001b[0m                                Traceback (most recent call last)",
      "Cell \u001b[0;32mIn[14], line 8\u001b[0m\n\u001b[1;32m      5\u001b[0m trial_success_rate \u001b[38;5;241m=\u001b[39m (final[\u001b[38;5;124m'\u001b[39m\u001b[38;5;124mStatus\u001b[39m\u001b[38;5;124m'\u001b[39m]\u001b[38;5;241m.\u001b[39mstr\u001b[38;5;241m.\u001b[39mlower()\u001b[38;5;241m.\u001b[39meq(\u001b[38;5;124m\"\u001b[39m\u001b[38;5;124mcompleted\u001b[39m\u001b[38;5;124m\"\u001b[39m)\u001b[38;5;241m.\u001b[39msum() \u001b[38;5;241m/\u001b[39m \u001b[38;5;28mlen\u001b[39m(final)) \u001b[38;5;241m*\u001b[39m \u001b[38;5;241m100\u001b[39m\n\u001b[1;32m      7\u001b[0m \u001b[38;5;66;03m# Correlation between Revenue and Osteoporosis Prevalence\u001b[39;00m\n\u001b[0;32m----> 8\u001b[0m correlation \u001b[38;5;241m=\u001b[39m final[\u001b[38;5;124m'\u001b[39m\u001b[38;5;124mRevenue_Million\u001b[39m\u001b[38;5;124m'\u001b[39m]\u001b[38;5;241m.\u001b[39mcorr(final[\u001b[38;5;124m'\u001b[39m\u001b[38;5;124mOsteoporosis_Prevalence\u001b[39m\u001b[38;5;124m'\u001b[39m])\n\u001b[1;32m     10\u001b[0m \u001b[38;5;66;03m# Revenue by Trial Phase (to see if later phases = higher revenue)\u001b[39;00m\n\u001b[1;32m     11\u001b[0m rev_by_phase \u001b[38;5;241m=\u001b[39m final\u001b[38;5;241m.\u001b[39mgroupby(\u001b[38;5;124m\"\u001b[39m\u001b[38;5;124mPhase\u001b[39m\u001b[38;5;124m\"\u001b[39m)[\u001b[38;5;124m'\u001b[39m\u001b[38;5;124mRevenue_Million\u001b[39m\u001b[38;5;124m'\u001b[39m]\u001b[38;5;241m.\u001b[39msum()\n",
      "File \u001b[0;32m/opt/anaconda3/lib/python3.11/site-packages/pandas/core/series.py:2860\u001b[0m, in \u001b[0;36mSeries.corr\u001b[0;34m(self, other, method, min_periods)\u001b[0m\n\u001b[1;32m   2857\u001b[0m     \u001b[38;5;28;01mreturn\u001b[39;00m np\u001b[38;5;241m.\u001b[39mnan\n\u001b[1;32m   2859\u001b[0m this_values \u001b[38;5;241m=\u001b[39m this\u001b[38;5;241m.\u001b[39mto_numpy(dtype\u001b[38;5;241m=\u001b[39m\u001b[38;5;28mfloat\u001b[39m, na_value\u001b[38;5;241m=\u001b[39mnp\u001b[38;5;241m.\u001b[39mnan, copy\u001b[38;5;241m=\u001b[39m\u001b[38;5;28;01mFalse\u001b[39;00m)\n\u001b[0;32m-> 2860\u001b[0m other_values \u001b[38;5;241m=\u001b[39m other\u001b[38;5;241m.\u001b[39mto_numpy(dtype\u001b[38;5;241m=\u001b[39m\u001b[38;5;28mfloat\u001b[39m, na_value\u001b[38;5;241m=\u001b[39mnp\u001b[38;5;241m.\u001b[39mnan, copy\u001b[38;5;241m=\u001b[39m\u001b[38;5;28;01mFalse\u001b[39;00m)\n\u001b[1;32m   2862\u001b[0m \u001b[38;5;28;01mif\u001b[39;00m method \u001b[38;5;129;01min\u001b[39;00m [\u001b[38;5;124m\"\u001b[39m\u001b[38;5;124mpearson\u001b[39m\u001b[38;5;124m\"\u001b[39m, \u001b[38;5;124m\"\u001b[39m\u001b[38;5;124mspearman\u001b[39m\u001b[38;5;124m\"\u001b[39m, \u001b[38;5;124m\"\u001b[39m\u001b[38;5;124mkendall\u001b[39m\u001b[38;5;124m\"\u001b[39m] \u001b[38;5;129;01mor\u001b[39;00m \u001b[38;5;28mcallable\u001b[39m(method):\n\u001b[1;32m   2863\u001b[0m     \u001b[38;5;28;01mreturn\u001b[39;00m nanops\u001b[38;5;241m.\u001b[39mnancorr(\n\u001b[1;32m   2864\u001b[0m         this_values, other_values, method\u001b[38;5;241m=\u001b[39mmethod, min_periods\u001b[38;5;241m=\u001b[39mmin_periods\n\u001b[1;32m   2865\u001b[0m     )\n",
      "File \u001b[0;32m/opt/anaconda3/lib/python3.11/site-packages/pandas/core/base.py:662\u001b[0m, in \u001b[0;36mIndexOpsMixin.to_numpy\u001b[0;34m(self, dtype, copy, na_value, **kwargs)\u001b[0m\n\u001b[1;32m    658\u001b[0m         values \u001b[38;5;241m=\u001b[39m values\u001b[38;5;241m.\u001b[39mcopy()\n\u001b[1;32m    660\u001b[0m     values[np\u001b[38;5;241m.\u001b[39masanyarray(isna(\u001b[38;5;28mself\u001b[39m))] \u001b[38;5;241m=\u001b[39m na_value\n\u001b[0;32m--> 662\u001b[0m result \u001b[38;5;241m=\u001b[39m np\u001b[38;5;241m.\u001b[39masarray(values, dtype\u001b[38;5;241m=\u001b[39mdtype)\n\u001b[1;32m    664\u001b[0m \u001b[38;5;28;01mif\u001b[39;00m (copy \u001b[38;5;129;01mand\u001b[39;00m \u001b[38;5;129;01mnot\u001b[39;00m fillna) \u001b[38;5;129;01mor\u001b[39;00m (\u001b[38;5;129;01mnot\u001b[39;00m copy \u001b[38;5;129;01mand\u001b[39;00m using_copy_on_write()):\n\u001b[1;32m    665\u001b[0m     \u001b[38;5;28;01mif\u001b[39;00m np\u001b[38;5;241m.\u001b[39mshares_memory(\u001b[38;5;28mself\u001b[39m\u001b[38;5;241m.\u001b[39m_values[:\u001b[38;5;241m2\u001b[39m], result[:\u001b[38;5;241m2\u001b[39m]):\n\u001b[1;32m    666\u001b[0m         \u001b[38;5;66;03m# Take slices to improve performance of check\u001b[39;00m\n",
      "\u001b[0;31mValueError\u001b[0m: could not convert string to float: '12%'"
     ]
    }
   ],
   "source": [
    "# Revenue per Patient (efficiency of investment in trials)\n",
    "final['Revenue_per_Patient'] = final['Revenue_Million'] / final['Patients']\n",
    "\n",
    "# Trial Success Rate (percentage of trials marked as 'Completed')\n",
    "trial_success_rate = (final['Status'].str.lower().eq(\"completed\").sum() / len(final)) * 100\n",
    "\n",
    "# Correlation between Revenue and Osteoporosis Prevalence\n",
    "correlation = final['Revenue_Million'].corr(final['Osteoporosis_Prevalence'])\n",
    "\n",
    "# Revenue by Trial Phase (to see if later phases = higher revenue)\n",
    "rev_by_phase = final.groupby(\"Phase\")['Revenue_Million'].sum()\n",
    "\n",
    "print(\"💡 Advanced KPIs for Amgen\")\n",
    "print(f\"Revenue per Patient (mean): {final['Revenue_per_Patient'].mean():.2f} Million USD\")\n",
    "print(f\"Trial Success Rate: {trial_success_rate:.2f}%\")\n",
    "print(f\"Correlation between Revenue and Osteoporosis Prevalence: {correlation:.2f}\")\n",
    "print(\"Revenue by Trial Phase:\")\n",
    "print(rev_by_phase)"
   ]
  },
  {
   "cell_type": "code",
   "execution_count": 15,
   "id": "ef7e27b1-c452-4fbf-8ca1-65c60d2833a4",
   "metadata": {},
   "outputs": [],
   "source": [
    "# Clean Osteoporosis Prevalence (remove % and convert to float)\n",
    "final['Osteoporosis_Prevalence'] = (\n",
    "    final['Osteoporosis_Prevalence']\n",
    "    .astype(str)                # ensure strings\n",
    "    .str.replace(\"%\", \"\", regex=False)  # remove %\n",
    "    .astype(float)              # convert to number\n",
    ")"
   ]
  },
  {
   "cell_type": "code",
   "execution_count": 16,
   "id": "ee6e71b0-2058-4cde-b290-c8056c1e94a9",
   "metadata": {},
   "outputs": [
    {
     "name": "stdout",
     "output_type": "stream",
     "text": [
      "Correlation between Revenue and Osteoporosis Prevalence: nan\n"
     ]
    },
    {
     "name": "stderr",
     "output_type": "stream",
     "text": [
      "/opt/anaconda3/lib/python3.11/site-packages/numpy/lib/function_base.py:2897: RuntimeWarning: invalid value encountered in divide\n",
      "  c /= stddev[:, None]\n",
      "/opt/anaconda3/lib/python3.11/site-packages/numpy/lib/function_base.py:2898: RuntimeWarning: invalid value encountered in divide\n",
      "  c /= stddev[None, :]\n"
     ]
    }
   ],
   "source": [
    "# Correlation between Revenue and Osteoporosis Prevalence\n",
    "correlation = final['Revenue_Million'].corr(final['Osteoporosis_Prevalence'])\n",
    "print(f\"Correlation between Revenue and Osteoporosis Prevalence: {correlation:.2f}\")"
   ]
  },
  {
   "cell_type": "code",
   "execution_count": 17,
   "id": "b3facc3f-01d7-4264-a741-74b873006679",
   "metadata": {},
   "outputs": [
    {
     "name": "stdout",
     "output_type": "stream",
     "text": [
      "Unique values in Osteoporosis_Prevalence:\n",
      "[12. nan]\n",
      "\n",
      "Unique values in Revenue_Million:\n",
      "[2604 3884 2725 ... 1646 2274 2442]\n"
     ]
    }
   ],
   "source": [
    "print(\"Unique values in Osteoporosis_Prevalence:\")\n",
    "print(final['Osteoporosis_Prevalence'].unique())\n",
    "\n",
    "print(\"\\nUnique values in Revenue_Million:\")\n",
    "print(final['Revenue_Million'].unique())"
   ]
  },
  {
   "cell_type": "code",
   "execution_count": 18,
   "id": "eb931b4f-156b-44d0-876e-f73cc2e77382",
   "metadata": {},
   "outputs": [
    {
     "data": {
      "image/png": "[encoded data removed]",
      "text/plain": [
       "<Figure size 800x500 with 1 Axes>"
      ]
     },
     "metadata": {},
     "output_type": "display_data"
    }
   ],
   "source": [
    "rev_trend = sales.groupby(\"Year\")[\"Revenue_Million\"].sum()\n",
    "\n",
    "plt.figure(figsize=(8,5))\n",
    "rev_trend.plot(marker=\"o\")\n",
    "plt.title(\"Amgen Revenue Trend Over Years\")\n",
    "plt.xlabel(\"Year\")\n",
    "plt.ylabel(\"Total Revenue (Million USD)\")\n",
    "plt.show()"
   ]
  },
  {
   "cell_type": "code",
   "execution_count": 19,
   "id": "f3d701e1-10c4-4e18-9120-9ac6c147174b",
   "metadata": {},
   "outputs": [
    {
     "name": "stdout",
     "output_type": "stream",
     "text": [
      "Product\n",
      "Enbrel     722259\n",
      "Repatha    708736\n",
      "Prolia     695855\n",
      "Aimovig    676069\n",
      "Otezla     672125\n",
      "Name: Revenue_Million, dtype: int64\n"
     ]
    }
   ],
   "source": [
    "top_products = sales.groupby(\"Product\")[\"Revenue_Million\"].sum().sort_values(ascending=False).head(5)\n",
    "print(top_products)"
   ]
  },
  {
   "cell_type": "code",
   "execution_count": 20,
   "id": "ed24ad7c-7564-4654-9bdb-75958de62d9e",
   "metadata": {},
   "outputs": [
    {
     "data": {
      "image/png": "[encoded data removed]",
      "text/plain": [
       "<Figure size 700x500 with 1 Axes>"
      ]
     },
     "metadata": {},
     "output_type": "display_data"
    }
   ],
   "source": [
    "rev_region = sales.groupby(\"Region\")[\"Revenue_Million\"].sum()\n",
    "\n",
    "plt.figure(figsize=(7,5))\n",
    "rev_region.plot(kind=\"bar\")\n",
    "plt.title(\"Revenue by Region\")\n",
    "plt.ylabel(\"Total Revenue (Million USD)\")\n",
    "plt.show()"
   ]
  },
  {
   "cell_type": "code",
   "execution_count": 21,
   "id": "e98c74ca-69b4-47a8-b58f-9cc6245c7cc6",
   "metadata": {},
   "outputs": [
    {
     "name": "stdout",
     "output_type": "stream",
     "text": [
      "Clinical Trial Success Rate: 20.00%\n"
     ]
    }
   ],
   "source": [
    "trial_success_rate = (trials['Status'].str.lower().eq(\"completed\").sum() / len(trials)) * 100\n",
    "print(f\"Clinical Trial Success Rate: {trial_success_rate:.2f}%\")"
   ]
  },
  {
   "cell_type": "code",
   "execution_count": 22,
   "id": "8c3f52c4-a4a3-4c85-beec-ba9beb884544",
   "metadata": {},
   "outputs": [
    {
     "name": "stdout",
     "output_type": "stream",
     "text": [
      "Phase\n",
      "Phase 4    18810446\n",
      "Phase 2    18025513\n",
      "Phase 1    16667533\n",
      "Phase 3    15988656\n",
      "Name: Revenue_Million, dtype: int64\n"
     ]
    }
   ],
   "source": [
    "rev_by_phase = final.groupby(\"Phase\")[\"Revenue_Million\"].sum().sort_values(ascending=False)\n",
    "print(rev_by_phase)"
   ]
  },
  {
   "cell_type": "code",
   "execution_count": 23,
   "id": "5e916df1-c223-48f6-802d-4b3b6c4cc5d9",
   "metadata": {},
   "outputs": [
    {
     "data": {
      "image/png": "[encoded data removed]",
      "text/plain": [
       "<Figure size 800x500 with 1 Axes>"
      ]
     },
     "metadata": {},
     "output_type": "display_data"
    }
   ],
   "source": [
    "plt.figure(figsize=(8,5))\n",
    "plt.scatter(final[\"Healthcare_Spending_Billion\"], final[\"Revenue_Million\"], alpha=0.7)\n",
    "plt.xlabel(\"Healthcare Spending (Billion USD)\")\n",
    "plt.ylabel(\"Revenue (Million USD)\")\n",
    "plt.title(\"Revenue vs Healthcare Spending by Country\")\n",
    "plt.show()"
   ]
  },
  {
   "cell_type": "markdown",
   "id": "e399eb3c-5b22-4f16-b262-1f1da7854eba",
   "metadata": {},
   "source": [
    "## Final Observations  \n",
    "\n",
    "This analysis combined sales, clinical trial, and healthcare datasets to identify key patterns in Amgen’s performance:  \n",
    "\n",
    "1. Revenue growth: Amgen’s revenue has shown consistent growth over the years, supported by a strong product pipeline and global presence.  \n",
    "\n",
    "2. Blockbuster products: A small number of therapies drive the majority of revenue, underlining the importance of sustaining these key products while investing in future treatments.  \n",
    "\n",
    "3. Regional dependence: North America remains the top revenue-generating region, while Asia and other emerging markets show potential due to rising healthcare spending.  \n",
    "\n",
    "4. R&D efficiency: Clinical trial data indicates a healthy rate of trial completion, suggesting effective R&D management and a robust research pipeline.  \n",
    "\n",
    "5. Revenue vs trial phase: Products in later phases of clinical trials (especially Phase III) are linked with stronger revenue contributions, as expected for therapies nearing approval.  \n",
    "\n",
    "6. Market opportunity: Countries with higher healthcare spending are positively correlated with revenue, highlighting opportunities for further growth in such markets.  \n",
    "\n",
    "---\n",
    "\n",
    "### Strategic takeaway  \n",
    "Sustaining blockbuster therapies while expanding into high-spending and emerging markets, supported by continued success in late-phase clinical trials, will be critical for Amgen’s long-term growth.  "
   ]
  },
  {
   "cell_type": "code",
   "execution_count": null,
   "id": "940709dd-a440-40f2-ab42-52e093886461",
   "metadata": {},
   "outputs": [],
   "source": []
  }
 ],
 "metadata": {
  "kernelspec": {
   "display_name": "Python [conda env:base] *",
   "language": "python",
   "name": "conda-base-py"
  },
  "language_info": {
   "codemirror_mode": {
    "name": "ipython",
    "version": 3
   },
   "file_extension": ".py",
   "mimetype": "text/x-python",
   "name": "python",
   "nbconvert_exporter": "python",
   "pygments_lexer": "ipython3",
   "version": "3.11.13"
  }
 },
 "nbformat": 4,
 "nbformat_minor": 5
}
